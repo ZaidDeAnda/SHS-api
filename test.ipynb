{
 "cells": [
  {
   "cell_type": "code",
   "execution_count": null,
   "source": [
    "import numpy as np\n",
    "import os\n",
    "import requests\n",
    "import json\n",
    "import random\n",
    "from models import models\n",
    "os.environ['TF_CPP_MIN_LOG_LEVEL'] = '3' \n"
   ],
   "outputs": [],
   "metadata": {}
  },
  {
   "cell_type": "code",
   "execution_count": null,
   "source": [
    "GOOD_DATA_PATH=\"./datos_prueba_api/good/\"\n",
    "BAD_DATA_PATH=\"./datos_prueba_api/bad/\""
   ],
   "outputs": [],
   "metadata": {}
  },
  {
   "cell_type": "code",
   "execution_count": null,
   "source": [
    "GOOD_DATA_FILES = [GOOD_DATA_PATH + X for X in os.listdir(GOOD_DATA_PATH)]\n",
    "BAD_DATA_FILES = [BAD_DATA_PATH + X for X in os.listdir(BAD_DATA_PATH)]\n",
    "GOOD_DATA_FILES"
   ],
   "outputs": [],
   "metadata": {}
  },
  {
   "cell_type": "code",
   "execution_count": null,
   "source": [
    "data=np.genfromtxt(GOOD_DATA_FILES[0], delimiter=\"\\n\")\n",
    "data=data.tolist()\n",
    "url=\"http://localhost:6000/predict/1\""
   ],
   "outputs": [],
   "metadata": {}
  },
  {
   "cell_type": "code",
   "execution_count": null,
   "source": [
    "data_json={\n",
    "     \"data\":data\n",
    "}"
   ],
   "outputs": [],
   "metadata": {}
  },
  {
   "cell_type": "code",
   "execution_count": null,
   "source": [
    "res = requests.post(url, json=data_json)\n",
    "print(res)"
   ],
   "outputs": [],
   "metadata": {}
  },
  {
   "cell_type": "code",
   "execution_count": null,
   "source": [
    "model=models[0]\n",
    "model"
   ],
   "outputs": [],
   "metadata": {}
  },
  {
   "cell_type": "code",
   "execution_count": null,
   "source": [
    "prediction=model.predict(np.reshape(data, (1,1800))) "
   ],
   "outputs": [],
   "metadata": {}
  },
  {
   "cell_type": "code",
   "execution_count": null,
   "source": [
    "prediction[0][0]"
   ],
   "outputs": [],
   "metadata": {}
  },
  {
   "cell_type": "code",
   "execution_count": null,
   "source": [
    "carpet=random.randint(0,1)"
   ],
   "outputs": [],
   "metadata": {}
  },
  {
   "cell_type": "code",
   "execution_count": null,
   "source": [
    "carpet"
   ],
   "outputs": [],
   "metadata": {}
  },
  {
   "cell_type": "code",
   "execution_count": null,
   "source": [
    "if carpet == 1:\n",
    "    file_number=len(GOOD_DATA_FILES)\n",
    "print(file_number)"
   ],
   "outputs": [],
   "metadata": {}
  },
  {
   "cell_type": "code",
   "execution_count": null,
   "source": [],
   "outputs": [],
   "metadata": {}
  }
 ],
 "metadata": {
  "orig_nbformat": 4,
  "language_info": {
   "name": "python",
   "version": "3.9.5",
   "mimetype": "text/x-python",
   "codemirror_mode": {
    "name": "ipython",
    "version": 3
   },
   "pygments_lexer": "ipython3",
   "nbconvert_exporter": "python",
   "file_extension": ".py"
  },
  "kernelspec": {
   "name": "python3",
   "display_name": "Python 3.9.5 64-bit ('venv': venv)"
  },
  "interpreter": {
   "hash": "75971f7c426066b89fba58de5ea585de6ce197838560875835f4ced4a946bf5f"
  }
 },
 "nbformat": 4,
 "nbformat_minor": 2
}